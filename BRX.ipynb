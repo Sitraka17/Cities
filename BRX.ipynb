{
 "cells": [
  {
   "cell_type": "code",
   "execution_count": 2,
   "metadata": {},
   "outputs": [],
   "source": [
    "import osmnx as ox # OSMNX is an awnsome package\n",
    "import pandas as pd\n"
   ]
  },
  {
   "cell_type": "code",
   "execution_count": 1,
   "metadata": {},
   "outputs": [
    {
     "ename": "NameError",
     "evalue": "name 'ox' is not defined",
     "output_type": "error",
     "traceback": [
      "\u001b[1;31m---------------------------------------------------------------------------\u001b[0m",
      "\u001b[1;31mNameError\u001b[0m                                 Traceback (most recent call last)",
      "\u001b[1;32mc:\\Users\\sitra\\OneDrive\\Documents\\Data\\Cities\\BRX.ipynb Cell 2\u001b[0m in \u001b[0;36m<cell line: 3>\u001b[1;34m()\u001b[0m\n\u001b[0;32m      <a href='vscode-notebook-cell:/c%3A/Users/sitra/OneDrive/Documents/Data/Cities/BRX.ipynb#W1sZmlsZQ%3D%3D?line=1'>2</a>\u001b[0m gdf_nodes \u001b[39m=\u001b[39m gdf_edges \u001b[39m=\u001b[39m \u001b[39mNone\u001b[39;00m\n\u001b[0;32m      <a href='vscode-notebook-cell:/c%3A/Users/sitra/OneDrive/Documents/Data/Cities/BRX.ipynb#W1sZmlsZQ%3D%3D?line=2'>3</a>\u001b[0m \u001b[39mfor\u001b[39;00m place \u001b[39min\u001b[39;00m place:\n\u001b[1;32m----> <a href='vscode-notebook-cell:/c%3A/Users/sitra/OneDrive/Documents/Data/Cities/BRX.ipynb#W1sZmlsZQ%3D%3D?line=3'>4</a>\u001b[0m     G \u001b[39m=\u001b[39m ox\u001b[39m.\u001b[39mgraph_from_place(place, retain_all\u001b[39m=\u001b[39m\u001b[39mTrue\u001b[39;00m, simplify\u001b[39m=\u001b[39m\u001b[39mTrue\u001b[39;00m, network_type\u001b[39m=\u001b[39m\u001b[39m'\u001b[39m\u001b[39mwalk\u001b[39m\u001b[39m'\u001b[39m)\n\u001b[0;32m      <a href='vscode-notebook-cell:/c%3A/Users/sitra/OneDrive/Documents/Data/Cities/BRX.ipynb#W1sZmlsZQ%3D%3D?line=4'>5</a>\u001b[0m     n_, e_ \u001b[39m=\u001b[39m ox\u001b[39m.\u001b[39mgraph_to_gdfs(G)\n\u001b[0;32m      <a href='vscode-notebook-cell:/c%3A/Users/sitra/OneDrive/Documents/Data/Cities/BRX.ipynb#W1sZmlsZQ%3D%3D?line=5'>6</a>\u001b[0m     n_[\u001b[39m\"\u001b[39m\u001b[39mplace\u001b[39m\u001b[39m\"\u001b[39m] \u001b[39m=\u001b[39m place\n",
      "\u001b[1;31mNameError\u001b[0m: name 'ox' is not defined"
     ]
    }
   ],
   "source": [
    "place = [\"Bordeaux\"]\n",
    "gdf_nodes = gdf_edges = None\n",
    "for place in place:\n",
    "    G = ox.graph_from_place(place, retain_all=True, simplify=True, network_type='walk')\n",
    "    n_, e_ = ox.graph_to_gdfs(G)\n",
    "    n_[\"place\"] = place\n",
    "    e_[\"place\"] = place\n",
    "    if gdf_nodes is None:\n",
    "        gdf_nodes = n_\n",
    "        gdf_edges = e_\n",
    "    else:\n",
    "        gdf_nodes = pd.concat([gdf_nodes, n_])\n",
    "        gdf_edges = pd.concat([gdf_edges, e_])\n",
    "\n",
    "#Plot it !\n",
    "import matplotlib.pyplot as plt\n",
    "from matplotlib.colors import ListedColormap\n",
    "\n",
    "colors = {'Brussels': 'blue'}\n",
    "fig = gdf_edges.plot(column=\"place\", cmap=ListedColormap([colors[k] for k in sorted(colors.keys())]), figsize=(10, 10),\n",
    "alpha=1, linewidth=2, edgecolor='blue', facecolor='orange') # Setting the line color to blue and the background to orange\n",
    "\n",
    "# plt.suptitle(\"Sitraka\")\n",
    "plt.title(\"Bordeaux\")\n",
    "plt.xticks([])\n",
    "plt.yticks([])\n",
    "fig.spines['top'].set_visible(False)\n",
    "fig.spines['right'].set_visible(False)\n",
    "fig.spines['bottom'].set_visible(False)\n",
    "fig.spines['left'].set_visible(False)\n",
    "plt.savefig(\"Bordeaux.jpg\", dpi=600, format=\"jpg\")\n",
    "plt.show()"
   ]
  }
 ],
 "metadata": {
  "kernelspec": {
   "display_name": "Python 3",
   "language": "python",
   "name": "python3"
  },
  "language_info": {
   "codemirror_mode": {
    "name": "ipython",
    "version": 3
   },
   "file_extension": ".py",
   "mimetype": "text/x-python",
   "name": "python",
   "nbconvert_exporter": "python",
   "pygments_lexer": "ipython3",
   "version": "3.10.10"
  },
  "orig_nbformat": 4
 },
 "nbformat": 4,
 "nbformat_minor": 2
}
